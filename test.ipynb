{
 "cells": [
  {
   "cell_type": "code",
   "execution_count": 4,
   "metadata": {},
   "outputs": [],
   "source": [
    "import tensorflow as tf\n",
    "import numpy as np\n",
    "import pandas as pd\n",
    "from tensorflow import keras\n",
    "from tensorflow.keras import layers"
   ]
  },
  {
   "cell_type": "code",
   "execution_count": 2,
   "metadata": {},
   "outputs": [],
   "source": [
    "l_1 = [\"marital_status\",\n",
    "\"children\",\n",
    "\"education\",\n",
    "\"work_conditions\",\n",
    "\"smoking\",\n",
    "\"physical_activity\",\n",
    "\"sport\",\n",
    "\"alcochol\",\n",
    "\"alc_freq\",\n",
    "\"diet\",\n",
    "\"grind\",\n",
    "\"nigth_work\",\n",
    "\"social_load\",\n",
    "\"work_in_hurry\",\n",
    "\"high_demands\",\n",
    "\"career_advancement\",\n",
    "\"working_environment\",\n",
    "\"insecure_about_work\",\n",
    "\"ergonomic_workpace\",\n",
    "\"restroom\"]"
   ]
  },
  {
   "cell_type": "code",
   "execution_count": 3,
   "metadata": {},
   "outputs": [
    {
     "name": "stdout",
     "output_type": "stream",
     "text": [
      "['marital_status', 'children', 'education', 'work_conditions', 'smoking', 'physical_activity', 'sport', 'alcochol', 'alc_freq', 'diet', 'grind', 'nigth_work', 'social_load', 'work_in_hurry', 'high_demands', 'career_advancement', 'working_environment', 'insecure_about_work', 'ergonomic_workpace', 'restroom']\n"
     ]
    }
   ],
   "source": [
    "print(l_1)"
   ]
  },
  {
   "cell_type": "code",
   "execution_count": 70,
   "metadata": {},
   "outputs": [
    {
     "name": "stdout",
     "output_type": "stream",
     "text": [
      "0\n"
     ]
    }
   ],
   "source": [
    "l_i = [1 , 2, 3]\n",
    "print(i[0])"
   ]
  },
  {
   "cell_type": "code",
   "execution_count": 80,
   "metadata": {},
   "outputs": [],
   "source": [
    "def all_inputs(list):\n",
    "    all_inputs = []\n",
    "    for x in list:\n",
    "        all_inputs.append(keras.Input(shape=(1,), name=x))\n",
    "    return all_inputs"
   ]
  },
  {
   "cell_type": "code",
   "execution_count": 87,
   "metadata": {},
   "outputs": [
    {
     "name": "stdout",
     "output_type": "stream",
     "text": [
      "[1, 2, 3] [4, 5, 6] [1, 2, 3, 4, 5, 6]\n"
     ]
    }
   ],
   "source": [
    "l_1_inputs = [1,2,3]\n",
    "l_2_inputs = [4,5,6]\n",
    "\n",
    "all_inputs = l_1_inputs.copy()\n",
    "all_inputs.extend(l_2_inputs)\n",
    "\n",
    "print(l_1_inputs, l_2_inputs, all_inputs)"
   ]
  },
  {
   "cell_type": "code",
   "execution_count": 88,
   "metadata": {},
   "outputs": [
    {
     "name": "stdout",
     "output_type": "stream",
     "text": [
      "[1, 2, 3, 4, 5, 6]\n"
     ]
    }
   ],
   "source": [
    "print(l_1_inputs + l_2_inputs)"
   ]
  },
  {
   "cell_type": "code",
   "execution_count": 82,
   "metadata": {},
   "outputs": [
    {
     "name": "stdout",
     "output_type": "stream",
     "text": [
      "[<KerasTensor: shape=(None, 1) dtype=float32 (created by layer 'marital_status')>, <KerasTensor: shape=(None, 1) dtype=float32 (created by layer 'children')>, <KerasTensor: shape=(None, 1) dtype=float32 (created by layer 'education')>, <KerasTensor: shape=(None, 1) dtype=float32 (created by layer 'work_conditions')>, <KerasTensor: shape=(None, 1) dtype=float32 (created by layer 'smoking')>, <KerasTensor: shape=(None, 1) dtype=float32 (created by layer 'physical_activity')>, <KerasTensor: shape=(None, 1) dtype=float32 (created by layer 'sport')>, <KerasTensor: shape=(None, 1) dtype=float32 (created by layer 'alcochol')>, <KerasTensor: shape=(None, 1) dtype=float32 (created by layer 'alc_freq')>, <KerasTensor: shape=(None, 1) dtype=float32 (created by layer 'diet')>, <KerasTensor: shape=(None, 1) dtype=float32 (created by layer 'grind')>, <KerasTensor: shape=(None, 1) dtype=float32 (created by layer 'nigth_work')>, <KerasTensor: shape=(None, 1) dtype=float32 (created by layer 'social_load')>, <KerasTensor: shape=(None, 1) dtype=float32 (created by layer 'work_in_hurry')>, <KerasTensor: shape=(None, 1) dtype=float32 (created by layer 'high_demands')>, <KerasTensor: shape=(None, 1) dtype=float32 (created by layer 'career_advancement')>, <KerasTensor: shape=(None, 1) dtype=float32 (created by layer 'working_environment')>, <KerasTensor: shape=(None, 1) dtype=float32 (created by layer 'insecure_about_work')>, <KerasTensor: shape=(None, 1) dtype=float32 (created by layer 'ergonomic_workpace')>, <KerasTensor: shape=(None, 1) dtype=float32 (created by layer 'restroom')>]\n"
     ]
    }
   ],
   "source": [
    "print(all_inputs(l_1))"
   ]
  },
  {
   "cell_type": "code",
   "execution_count": 58,
   "metadata": {},
   "outputs": [],
   "source": [
    "l_3 = [\"abc\", \"def\", \"ghi\"]\n",
    "# l_enc = np.full([len(l_3)], \"enc\", dtype=str)\n",
    "l_3_enc = l_3.copy()\n",
    "\n",
    "def encode_f(list):\n",
    "    l = list.copy()\n",
    "    for i in range(len(l)):\n",
    "        l[i] = l[i] + \"_enc\"\n",
    "    return l\n"
   ]
  },
  {
   "cell_type": "code",
   "execution_count": 57,
   "metadata": {},
   "outputs": [
    {
     "name": "stdout",
     "output_type": "stream",
     "text": [
      "['abc_enc', 'def_enc', 'ghi_enc']\n"
     ]
    }
   ],
   "source": [
    "print(encode_f(l_3))"
   ]
  }
 ],
 "metadata": {
  "interpreter": {
   "hash": "6f664043e799c9dae62c8bee5f90ceed20e522be2b4be890eab1a5a56475b8b3"
  },
  "kernelspec": {
   "display_name": "Python 3.9.7 64-bit ('tf': venv)",
   "language": "python",
   "name": "python3"
  },
  "language_info": {
   "codemirror_mode": {
    "name": "ipython",
    "version": 3
   },
   "file_extension": ".py",
   "mimetype": "text/x-python",
   "name": "python",
   "nbconvert_exporter": "python",
   "pygments_lexer": "ipython3",
   "version": "3.9.7"
  },
  "orig_nbformat": 4
 },
 "nbformat": 4,
 "nbformat_minor": 2
}
